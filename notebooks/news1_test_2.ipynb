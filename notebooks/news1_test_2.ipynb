{
 "cells": [
  {
   "cell_type": "code",
   "execution_count": 3,
   "metadata": {},
   "outputs": [
    {
     "name": "stdout",
     "output_type": "stream",
     "text": [
      "Collecting lxml\n",
      "  Downloading lxml-4.9.3-cp310-cp310-win_amd64.whl (3.8 MB)\n",
      "                                              0.0/3.8 MB ? eta -:--:--\n",
      "     -                                        0.2/3.8 MB 5.0 MB/s eta 0:00:01\n",
      "     ---                                      0.4/3.8 MB 5.6 MB/s eta 0:00:01\n",
      "     ------                                   0.6/3.8 MB 4.8 MB/s eta 0:00:01\n",
      "     ---------                                0.9/3.8 MB 5.1 MB/s eta 0:00:01\n",
      "     ------------                             1.1/3.8 MB 5.2 MB/s eta 0:00:01\n",
      "     ----------------                         1.5/3.8 MB 5.8 MB/s eta 0:00:01\n",
      "     -------------------                      1.8/3.8 MB 5.8 MB/s eta 0:00:01\n",
      "     ---------------------                    2.0/3.8 MB 5.9 MB/s eta 0:00:01\n",
      "     --------------------------               2.5/3.8 MB 6.3 MB/s eta 0:00:01\n",
      "     ------------------------------           2.9/3.8 MB 6.3 MB/s eta 0:00:01\n",
      "     ---------------------------------        3.2/3.8 MB 6.4 MB/s eta 0:00:01\n",
      "     -------------------------------------    3.6/3.8 MB 6.5 MB/s eta 0:00:01\n",
      "     ---------------------------------------  3.8/3.8 MB 6.5 MB/s eta 0:00:01\n",
      "     ---------------------------------------  3.8/3.8 MB 6.5 MB/s eta 0:00:01\n",
      "     ---------------------------------------- 3.8/3.8 MB 5.8 MB/s eta 0:00:00\n",
      "Installing collected packages: lxml\n",
      "Successfully installed lxml-4.9.3\n"
     ]
    }
   ],
   "source": [
    "! pip install lxml"
   ]
  },
  {
   "cell_type": "code",
   "execution_count": 1,
   "metadata": {},
   "outputs": [],
   "source": [
    "# Imports\n",
    "import requests\n",
    "from bs4 import BeautifulSoup\n",
    "from termcolor import colored, cprint\n",
    "import sys\n",
    "from datetime import datetime, timedelta"
   ]
  },
  {
   "cell_type": "code",
   "execution_count": 13,
   "metadata": {},
   "outputs": [],
   "source": [
    "#vars\n",
    "stories = ['null']\n",
    "\n",
    "def get_soup(url):\n",
    "\tresponse = requests.get(url)\n",
    "\tsoup = BeautifulSoup(response.text, \"html.parser\")\n",
    "\treturn soup\n",
    "\n",
    "def get_headlines(item_start_id, links_to_fetch, category):\n",
    "    base_url = \"http://feeds.bbci.co.uk/news/\"\n",
    "\n",
    "    if not category or category.lower() == \"general\":\n",
    "        scrape_url = f\"{base_url}rss.xml\"\n",
    "    elif category.lower() == \"science\":\n",
    "        scrape_url = f\"{base_url}science_and_environment/rss.xml\"\n",
    "    elif category.lower() == \"entertainment\":\n",
    "        scrape_url = f\"{base_url}entertainment_and_arts/rss.xml\"\n",
    "    else:\n",
    "        scrape_url = f\"{base_url}{category.lower()}/rss.xml\"\n",
    "    \n",
    "    print(f\"Scraping {scrape_url} for the latest news...\")\n",
    "    current_item = item_start_id\n",
    "    # Request and parse XML feed\n",
    "    response = requests.get(scrape_url)\n",
    "    soup = BeautifulSoup(response.content, \"xml\")\n",
    "    # Get the current time\n",
    "    current_time = datetime.now()\n",
    "    # Iterate over the articles in the feed\n",
    "    for item in soup.find_all(\"item\")[:links_to_fetch]:\n",
    "        pub_date = datetime.strptime(item.find(\"pubDate\").text, \"%a, %d %b %Y %H:%M:%S %Z\")\n",
    "        # Calculate the time difference between the current time and the publication time\n",
    "        time_difference = current_time - pub_date\n",
    "        hours_difference = time_difference.total_seconds() / 3600\n",
    "        if hours_difference <= 5:\n",
    "            article_url = item.link.text\n",
    "            article_headline = item.title.text\n",
    "            stories.append(article_url)\n",
    "            cprint(f\"[{current_item}]{article_headline}:\", 'red', attrs=['bold'], end='\\n')\n",
    "            current_item += 1"
   ]
  },
  {
   "cell_type": "code",
   "execution_count": 16,
   "metadata": {},
   "outputs": [],
   "source": [
    "class Body:\n",
    "    def __init__(self, url: str):\n",
    "        article = requests.get(url)\n",
    "        self.soup = BeautifulSoup(article.content, \"html.parser\")\n",
    "        self.body = self.get_body()\n",
    "        self.title = self.get_title()\n",
    "\n",
    "    def get_body(self) -> list:\n",
    "        body_divs = self.soup.find_all('div', {'data-component': 'text-block'})\n",
    "        if body_divs:\n",
    "            body = []\n",
    "            for div in body_divs:\n",
    "                paragraphs = div.find_all('p')\n",
    "                for p in paragraphs:\n",
    "                    body.append(p.text)\n",
    "            return body\n",
    "        return []\n",
    "\n",
    "    def get_title(self) -> str:\n",
    "        title_element = self.soup.find(\"h1\")\n",
    "        return title_element.text.strip() if title_element else \"\""
   ]
  },
  {
   "cell_type": "code",
   "execution_count": 24,
   "metadata": {},
   "outputs": [
    {
     "name": "stdout",
     "output_type": "stream",
     "text": [
      "Scraping http://feeds.bbci.co.uk/news/world/rss.xml for the latest news...\n",
      "\u001b[1m\u001b[31m[1]S Korea floods leave at least 20 dead as thousands forced to evacuate:\u001b[0m\n",
      "art url https://www.bbc.co.uk/news/business-66203677?at_medium=RSS&at_campaign=KARANGA\n",
      "A scheme designed to help people who missed out on last winter's £400 energy bill subsidy was a \"staggering failure\", a senior MP has said. The Energy Bill Support Scheme Alternative Funding was set up for households who do not have an energy supplier, such as those in park homes. Nearly a million households could apply but only a fraction received the money. MP Angus MacNeil said the government should reopen the scheme, saying it had \"missed the most vulnerable\". The government said it had spent more than £50m supporting 130,000 households without a domestic energy supplier. All UK households were eligible for the £400 help with fuel bills, after energy prices rose sharply last year. For households who pay their bills by direct debit, the support was given automatically through monthly payments from October to March. But people who live off-grid, on narrow boats, travellers, people in park homes and some tenants and people on heat networks, did not automatically receive the support, because they did not have an energy provider.  The government set up the Alternative Funding scheme for the over 900,000 households in those categories. It also applied to people living in care homes, who are charged for energy costs in their bills. But only 141,000 bill-payers managed to apply for and receive the subsidy before the scheme closed on 31 May.  There remain 750,000 eligible households who have missed out on the £400 support payment. PHD student Sheree Smith said she spent more time at university than at her flat so she didn't have to pay higher energy bills. She told BBC Breakfast: \"I was really hoping that £400 would have helped me to weather the storm so I could stay in my flat, but ultimately it didn't come in time.  \"I ended up having to return to my parents.\" Mr MacNeil, a former SNP member, who now sits as an independent and chairs Parliament's energy security and net zero committee, said the scheme should be improved and extended so that people could claim the subsidy they were entitled to. \"A lot of these will be vulnerable people who are particularly suffering the bite of the energy price spike and government should be moving heaven and earth almost, to make sure these people are getting the money,\" Mr MacNeil said in an interview with the BBC's Money Box programme. In his role as chair of the parliamentary committee, Mr MacNeil is due to question Energy Security and Net Zero Secretary Grant Shapps in September. Mr MacNeil said he would ask him to relaunch the scheme and make it easier to use, since \"clearly delivery has failed\". Some applicants criticised the scheme for being too complex or not recognising their circumstances. Others said their applications were repeatedly rejected, despite being eligible. A government spokesperson said: \"We spent billions to protect families when prices rose over winter, covering nearly half a typical household's energy bill. \"We're now seeing costs fall even further with wholesale energy prices down by over two thirds since their peak.\" You can hear more on this story on the Money Box podcast after broadcast. Follow Money Box or Dan on Twitter.\n",
      "Scraping http://feeds.bbci.co.uk/news/q/rss.xml for the latest news...\n",
      "\u001b[31mGoodbye!\u001b[0m\n"
     ]
    },
    {
     "ename": "SystemExit",
     "evalue": "",
     "output_type": "error",
     "traceback": [
      "An exception has occurred, use %tb to see the full traceback.\n",
      "\u001b[1;31mSystemExit\u001b[0m\n"
     ]
    }
   ],
   "source": [
    "def main():\n",
    "\tcategory = input(\"Enter a category (World, UK, Business, Politics, Health, Education, Science, Technology, Entertainment) or leave blank for general news: \")\n",
    "\tget_headlines(1, 10, category)\n",
    "\tarticle_id = input(\"select an article id or Q to quit\\n\")\n",
    "\tif article_id.lower() == 'q':\n",
    "\t\tcprint(\"Goodbye!\", 'red', end='\\n')\n",
    "\t\tsys.exit()\n",
    "\n",
    "\telse:\n",
    "\t\tarticle_url = stories[int(article_id)]\n",
    "\t\tprint(\"art url\", article_url)\n",
    "\t\t# get_article_text(article_url, 32)\n",
    "\t\tparsed = Body(article_url)\n",
    "\t\tbody = ' '.join(parsed.body)\n",
    "\t\tprint(body)\n",
    "\n",
    "while __name__ == \"__main__\":\n",
    "\tmain()\n"
   ]
  }
 ],
 "metadata": {
  "kernelspec": {
   "display_name": "Python 3",
   "language": "python",
   "name": "python3"
  },
  "language_info": {
   "codemirror_mode": {
    "name": "ipython",
    "version": 3
   },
   "file_extension": ".py",
   "mimetype": "text/x-python",
   "name": "python",
   "nbconvert_exporter": "python",
   "pygments_lexer": "ipython3",
   "version": "3.10.6"
  },
  "orig_nbformat": 4
 },
 "nbformat": 4,
 "nbformat_minor": 2
}
